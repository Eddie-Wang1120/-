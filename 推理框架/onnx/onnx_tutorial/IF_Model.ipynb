{
 "cells": [
  {
   "cell_type": "code",
   "execution_count": 14,
   "metadata": {},
   "outputs": [],
   "source": [
    "import numpy as np\n",
    "import onnx\n",
    "from onnx.helper import(\n",
    "    make_node, make_graph, make_model, make_tensor_value_info\n",
    ")\n",
    "from onnx.numpy_helper import from_array\n",
    "from onnx.checker import check_model\n",
    "from onnxruntime import InferenceSession"
   ]
  },
  {
   "cell_type": "code",
   "execution_count": 15,
   "metadata": {},
   "outputs": [],
   "source": [
    "value = np.array([0], dtype=np.float32)\n",
    "zero = from_array(value, name='zero')"
   ]
  },
  {
   "cell_type": "code",
   "execution_count": 16,
   "metadata": {},
   "outputs": [],
   "source": [
    "X = make_tensor_value_info('X', onnx.TensorProto.FLOAT, [None, None])\n",
    "Y = make_tensor_value_info('Y', onnx.TensorProto.FLOAT, [None])"
   ]
  },
  {
   "cell_type": "code",
   "execution_count": 17,
   "metadata": {},
   "outputs": [],
   "source": [
    "rsum = make_node('ReduceSum', ['X'], ['rsum'])\n",
    "cond = make_node('Greater', ['rsum', 'zero'], ['cond'])"
   ]
  },
  {
   "cell_type": "code",
   "execution_count": 18,
   "metadata": {},
   "outputs": [],
   "source": [
    "then_out = make_tensor_value_info('then_out', onnx.TensorProto.FLOAT, None)\n",
    "then_cst = from_array(np.array([1]).astype(np.float32))"
   ]
  },
  {
   "cell_type": "code",
   "execution_count": 19,
   "metadata": {},
   "outputs": [],
   "source": [
    "then_const_node = make_node(\n",
    "    'Constant', inputs=[],\n",
    "    outputs=['then_out'],\n",
    "    value=then_cst, name='cst1')"
   ]
  },
  {
   "cell_type": "code",
   "execution_count": 20,
   "metadata": {},
   "outputs": [],
   "source": [
    "then_body = make_graph(\n",
    "    [then_const_node], 'then_body', [], [then_out])"
   ]
  },
  {
   "cell_type": "code",
   "execution_count": 21,
   "metadata": {},
   "outputs": [],
   "source": [
    "else_out = make_tensor_value_info(\n",
    "    'else_out', onnx.TensorProto.FLOAT, [5])\n",
    "else_cst = from_array(np.array([-1]).astype(np.float32))\n",
    "\n",
    "else_const_node = make_node(\n",
    "    'Constant', inputs=[],\n",
    "    outputs=['else_out'],\n",
    "    value=else_cst, name='cst2')\n",
    "\n",
    "else_body = make_graph(\n",
    "    [else_const_node], 'else_body',\n",
    "    [], [else_out])"
   ]
  },
  {
   "cell_type": "code",
   "execution_count": 22,
   "metadata": {},
   "outputs": [],
   "source": [
    "if_node = onnx.helper.make_node(\n",
    "    'If', ['cond'], ['Y'],\n",
    "    then_branch=then_body,\n",
    "    else_branch=else_body)\n"
   ]
  },
  {
   "cell_type": "code",
   "execution_count": 23,
   "metadata": {},
   "outputs": [],
   "source": [
    "graph = make_graph([rsum, cond, if_node], 'if', [X], [Y], [zero])\n",
    "onnx_model = make_model(graph)\n",
    "check_model(onnx_model)"
   ]
  },
  {
   "cell_type": "code",
   "execution_count": 26,
   "metadata": {},
   "outputs": [
    {
     "name": "stdout",
     "output_type": "stream",
     "text": [
      "result [array([1.], dtype=float32)]\n",
      "\n",
      "ir_version: 8\n",
      "graph {\n",
      "  node {\n",
      "    input: \"X\"\n",
      "    output: \"rsum\"\n",
      "    op_type: \"ReduceSum\"\n",
      "  }\n",
      "  node {\n",
      "    input: \"rsum\"\n",
      "    input: \"zero\"\n",
      "    output: \"cond\"\n",
      "    op_type: \"Greater\"\n",
      "  }\n",
      "  node {\n",
      "    input: \"cond\"\n",
      "    output: \"Y\"\n",
      "    op_type: \"If\"\n",
      "    attribute {\n",
      "      name: \"else_branch\"\n",
      "      g {\n",
      "        node {\n",
      "          output: \"else_out\"\n",
      "          name: \"cst2\"\n",
      "          op_type: \"Constant\"\n",
      "          attribute {\n",
      "            name: \"value\"\n",
      "            t {\n",
      "              dims: 1\n",
      "              data_type: 1\n",
      "              raw_data: \"\\000\\000\\200\\277\"\n",
      "            }\n",
      "            type: TENSOR\n",
      "          }\n",
      "        }\n",
      "        name: \"else_body\"\n",
      "        output {\n",
      "          name: \"else_out\"\n",
      "          type {\n",
      "            tensor_type {\n",
      "              elem_type: 1\n",
      "              shape {\n",
      "                dim {\n",
      "                  dim_value: 5\n",
      "                }\n",
      "              }\n",
      "            }\n",
      "          }\n",
      "        }\n",
      "      }\n",
      "      type: GRAPH\n",
      "    }\n",
      "    attribute {\n",
      "      name: \"then_branch\"\n",
      "      g {\n",
      "        node {\n",
      "          output: \"then_out\"\n",
      "          name: \"cst1\"\n",
      "          op_type: \"Constant\"\n",
      "          attribute {\n",
      "            name: \"value\"\n",
      "            t {\n",
      "              dims: 1\n",
      "              data_type: 1\n",
      "              raw_data: \"\\000\\000\\200?\"\n",
      "            }\n",
      "            type: TENSOR\n",
      "          }\n",
      "        }\n",
      "        name: \"then_body\"\n",
      "        output {\n",
      "          name: \"then_out\"\n",
      "          type {\n",
      "            tensor_type {\n",
      "              elem_type: 1\n",
      "            }\n",
      "          }\n",
      "        }\n",
      "      }\n",
      "      type: GRAPH\n",
      "    }\n",
      "  }\n",
      "  name: \"if\"\n",
      "  initializer {\n",
      "    dims: 1\n",
      "    data_type: 1\n",
      "    name: \"zero\"\n",
      "    raw_data: \"\\000\\000\\000\\000\"\n",
      "  }\n",
      "  input {\n",
      "    name: \"X\"\n",
      "    type {\n",
      "      tensor_type {\n",
      "        elem_type: 1\n",
      "        shape {\n",
      "          dim {\n",
      "          }\n",
      "          dim {\n",
      "          }\n",
      "        }\n",
      "      }\n",
      "    }\n",
      "  }\n",
      "  output {\n",
      "    name: \"Y\"\n",
      "    type {\n",
      "      tensor_type {\n",
      "        elem_type: 1\n",
      "        shape {\n",
      "          dim {\n",
      "          }\n",
      "        }\n",
      "      }\n",
      "    }\n",
      "  }\n",
      "}\n",
      "opset_import {\n",
      "  domain: \"\"\n",
      "  version: 15\n",
      "}\n",
      "\n"
     ]
    }
   ],
   "source": [
    "# Save.\n",
    "with open(\"onnx_if_sign.onnx\", \"wb\") as f:\n",
    "    f.write(onnx_model.SerializeToString())\n",
    "\n",
    "# Let's see the output.\n",
    "sess = InferenceSession(onnx_model.SerializeToString(), providers=['CUDAExecutionProvider'])\n",
    "\n",
    "x = np.ones((3, 2), dtype=np.float32)\n",
    "res = sess.run(None, {'X': x})\n",
    "\n",
    "# It works.\n",
    "print(\"result\", res)\n",
    "print()\n",
    "\n",
    "# Some display.\n",
    "print(onnx_model)"
   ]
  }
 ],
 "metadata": {
  "kernelspec": {
   "display_name": "Python 3.7.5 64-bit",
   "language": "python",
   "name": "python3"
  },
  "language_info": {
   "codemirror_mode": {
    "name": "ipython",
    "version": 3
   },
   "file_extension": ".py",
   "mimetype": "text/x-python",
   "name": "python",
   "nbconvert_exporter": "python",
   "pygments_lexer": "ipython3",
   "version": "3.7.5"
  },
  "orig_nbformat": 4,
  "vscode": {
   "interpreter": {
    "hash": "31f2aee4e71d21fbe5cf8b01ff0e069b9275f58929596ceb00d14d90e3e16cd6"
   }
  }
 },
 "nbformat": 4,
 "nbformat_minor": 2
}
