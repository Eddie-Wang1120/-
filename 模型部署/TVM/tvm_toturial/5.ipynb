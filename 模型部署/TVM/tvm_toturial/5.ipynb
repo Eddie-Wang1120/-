{
 "cells": [
  {
   "cell_type": "code",
   "execution_count": 1,
   "metadata": {},
   "outputs": [],
   "source": [
    "import tvm\n",
    "from tvm import relay\n",
    "import numpy as np\n",
    "from tvm.contrib import graph_executor"
   ]
  },
  {
   "cell_type": "code",
   "execution_count": 2,
   "metadata": {},
   "outputs": [],
   "source": [
    "def batch_norm(data,\n",
    "                gamma = None,\n",
    "                beta = None,\n",
    "                moving_mean = None,\n",
    "                moving_var = None,\n",
    "                **kwargs):\n",
    "    name = kwargs.get(\"name\")\n",
    "    kwargs.pop(\"name\")\n",
    "    if not gamma:\n",
    "        gamma = relay.var(name + \"_gamma\")\n",
    "    if not beta:\n",
    "        beta = relay.var(name + \"_beta\")\n",
    "    if not moving_mean:\n",
    "        moving_mean = relay.var(name + \"_moving_mean\")\n",
    "    if not moving_var:\n",
    "        moving_var = relay.var(name + \"_moving_var\")\n",
    "    return relay.nn.batch_norm(data,\n",
    "                            gamma=gamma,\n",
    "                            beta=beta,\n",
    "                            moving_mean=moving_mean,\n",
    "                            moving_var=moving_var,\n",
    "                            **kwargs)[0]"
   ]
  },
  {
   "cell_type": "code",
   "execution_count": 3,
   "metadata": {},
   "outputs": [],
   "source": [
    "# 构造卷积\n",
    "def conv2d(data, weight=None, **kwargs):\n",
    "    name = kwargs.get(\"name\")\n",
    "    kwargs.pop(\"name\")\n",
    "    if not weight:\n",
    "        weight = relay.var(name + \"_weight\")\n",
    "    return relay.nn.conv2d(data, weight, **kwargs)"
   ]
  },
  {
   "cell_type": "code",
   "execution_count": 4,
   "metadata": {},
   "outputs": [],
   "source": [
    "def simplenet(data, name, channels, kernel_size=(3, 3), strides=(1, 1),\n",
    "               padding=(1, 1), epsilon=1e-5):\n",
    "    conv = conv2d(\n",
    "        data=data,\n",
    "        channels=channels,\n",
    "        kernel_size=kernel_size,\n",
    "        strides=strides,\n",
    "        padding=padding,\n",
    "        data_layout='NCHW',\n",
    "        name=name+'_conv')\n",
    "    bn = batch_norm(data=conv, epsilon=epsilon, name=name + '_bn')\n",
    "    act = relay.nn.relu(data=bn)\n",
    "    return act"
   ]
  },
  {
   "cell_type": "code",
   "execution_count": 5,
   "metadata": {},
   "outputs": [
    {
     "name": "stdout",
     "output_type": "stream",
     "text": [
      "fn (%data: Tensor[(1, 3, 224, 224), float32], %graph_conv_weight, %graph_bn_gamma, %graph_bn_beta, %graph_bn_moving_mean, %graph_bn_moving_var) {\n",
      "  %0 = nn.conv2d(%data, %graph_conv_weight, strides=[2, 2], padding=[1, 1, 1, 1], channels=32, kernel_size=[3, 3]);\n",
      "  %1 = nn.batch_norm(%0, %graph_bn_gamma, %graph_bn_beta, %graph_bn_moving_mean, %graph_bn_moving_var);\n",
      "  %2 = %1.0;\n",
      "  nn.relu(%2)\n",
      "}\n"
     ]
    }
   ],
   "source": [
    "data_shape = (1, 3, 224, 224)\n",
    "kernel_shape = (32, 3, 3, 3)\n",
    "dtype = \"float32\"\n",
    "data = relay.var(\"data\", shape=data_shape, dtype=dtype)\n",
    "act = simplenet(data, \"graph\", 32, strides=(2, 2))\n",
    "func = relay.Function(relay.analysis.free_vars(act), act)\n",
    "print(func)"
   ]
  },
  {
   "cell_type": "code",
   "execution_count": 6,
   "metadata": {},
   "outputs": [
    {
     "name": "stderr",
     "output_type": "stream",
     "text": [
      "/home/wjh/disk/apache-tvm-src-v0.9.0/python/tvm/driver/build_module.py:268: UserWarning: target_host parameter is going to be deprecated. Please pass in tvm.target.Target(target, host=target_host) instead.\n",
      "  \"target_host parameter is going to be deprecated. \"\n",
      "One or more operators have not been tuned. Please tune your model for better performance. Use DEBUG logging level to see more details.\n"
     ]
    }
   ],
   "source": [
    "np_data = np.random.uniform(-1, 1, (1, 3, 224, 224))\n",
    "\n",
    "params = {\n",
    "    \"graph_conv_weight\": tvm.nd.array(np.random.uniform(-1, 1, (32, 3, 3, 3)).astype(dtype)),\n",
    "    \"graph_bn_gamma\": tvm.nd.array(np.random.uniform(-1, 1, (32)).astype(dtype)),\n",
    "    \"graph_bn_beta\": tvm.nd.array(np.random.uniform(-1, 1, (32)).astype(dtype)),\n",
    "    \"graph_bn_moving_mean\": tvm.nd.array(np.random.uniform(-1, 1, (32)).astype(dtype)),\n",
    "    \"graph_bn_moving_var\": tvm.nd.array(np.random.uniform(-1, 1, (32)).astype(dtype)),\n",
    "}\n",
    "\n",
    "with tvm.transform.PassContext(opt_level=3):\n",
    "    lib = relay.build(func, \"llvm\", params=params)\n"
   ]
  },
  {
   "cell_type": "code",
   "execution_count": 7,
   "metadata": {},
   "outputs": [],
   "source": [
    "dev = tvm.cpu(0)\n",
    "dtype = \"float32\"\n",
    "m = graph_executor.GraphModule(lib[\"default\"](dev))\n",
    "# set inputs\n",
    "m.set_input(\"data\", tvm.nd.array(np_data.astype(dtype)))\n",
    "# execute\n",
    "m.run()\n",
    "# get outputs\n",
    "tvm_output = m.get_output(0)"
   ]
  }
 ],
 "metadata": {
  "kernelspec": {
   "display_name": "Python 3.7.5 64-bit",
   "language": "python",
   "name": "python3"
  },
  "language_info": {
   "codemirror_mode": {
    "name": "ipython",
    "version": 3
   },
   "file_extension": ".py",
   "mimetype": "text/x-python",
   "name": "python",
   "nbconvert_exporter": "python",
   "pygments_lexer": "ipython3",
   "version": "3.7.5"
  },
  "orig_nbformat": 4,
  "vscode": {
   "interpreter": {
    "hash": "31f2aee4e71d21fbe5cf8b01ff0e069b9275f58929596ceb00d14d90e3e16cd6"
   }
  }
 },
 "nbformat": 4,
 "nbformat_minor": 2
}
